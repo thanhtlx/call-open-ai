{
 "cells": [
  {
   "cell_type": "code",
   "execution_count": 1,
   "metadata": {},
   "outputs": [
    {
     "data": {
      "text/plain": [
       "24264"
      ]
     },
     "execution_count": 1,
     "metadata": {},
     "output_type": "execute_result"
    }
   ],
   "source": [
    "import random\n",
    "import json\n",
    "with open('raw_clustering_time/train.jsonl') as f:\n",
    "    data = [json.loads(l.strip()) for l in f.readlines()]\n",
    "    result = list()\n",
    "    for obj in data:\n",
    "        obj['type'] = f'TYPE{random.randint(1,5)}'\n",
    "        result.append(obj)\n",
    "len(result)"
   ]
  },
  {
   "cell_type": "code",
   "execution_count": 2,
   "metadata": {},
   "outputs": [],
   "source": [
    "with open('raw_clustering_time/train_random_type.jsonl','w+') as f:\n",
    "    for obj in result:\n",
    "        f.writelines(json.dumps(obj)+'\\n')\n"
   ]
  }
 ],
 "metadata": {
  "kernelspec": {
   "display_name": "xai",
   "language": "python",
   "name": "python3"
  },
  "language_info": {
   "codemirror_mode": {
    "name": "ipython",
    "version": 3
   },
   "file_extension": ".py",
   "mimetype": "text/x-python",
   "name": "python",
   "nbconvert_exporter": "python",
   "pygments_lexer": "ipython3",
   "version": "3.12.3"
  }
 },
 "nbformat": 4,
 "nbformat_minor": 2
}
