{
 "cells": [
  {
   "cell_type": "code",
   "execution_count": 2,
   "metadata": {},
   "outputs": [],
   "source": [
    "with open('mcdm_c\\\\cpp\\\\sort_time_train80_valid10_test10\\\\train.msg.txt') as f:\n",
    "    train = set([l.strip() for l in f.readlines()])\n",
    "with open('mcdm_c\\\\cpp\\\\sort_time_train80_valid10_test10\\\\test.msg.txt') as f:\n",
    "    test = set([l.strip() for l in f.readlines()])"
   ]
  },
  {
   "cell_type": "code",
   "execution_count": 3,
   "metadata": {},
   "outputs": [
    {
     "data": {
      "text/plain": [
       "667"
      ]
     },
     "execution_count": 3,
     "metadata": {},
     "output_type": "execute_result"
    }
   ],
   "source": [
    "len(train.intersection(test))"
   ]
  },
  {
   "cell_type": "code",
   "execution_count": 17,
   "metadata": {},
   "outputs": [],
   "source": [
    "len_train = [len(el.split()) for el in train]\n",
    "len_test = [len(el.split()) for el in test]"
   ]
  },
  {
   "cell_type": "code",
   "execution_count": 18,
   "metadata": {},
   "outputs": [],
   "source": [
    "llstrain = dict()\n",
    "for el in set(len_train):\n",
    "    llstrain[el] = len_train.count(el)"
   ]
  },
  {
   "cell_type": "code",
   "execution_count": 19,
   "metadata": {},
   "outputs": [],
   "source": [
    "llstest = dict()\n",
    "for el in set(len_test):\n",
    "    llstest[el] = len_test.count(el)"
   ]
  },
  {
   "cell_type": "code",
   "execution_count": 20,
   "metadata": {},
   "outputs": [],
   "source": [
    "llstrain = {k: v for k, v in sorted(llstrain.items(), key=lambda item: -item[1])}\n",
    "llstest = {k: v for k, v in sorted(llstest.items(), key=lambda item: -item[1])}\n"
   ]
  },
  {
   "cell_type": "code",
   "execution_count": 21,
   "metadata": {},
   "outputs": [
    {
     "data": {
      "text/plain": [
       "(9.69521531682855, 9.682508680555555)"
      ]
     },
     "execution_count": 21,
     "metadata": {},
     "output_type": "execute_result"
    }
   ],
   "source": [
    "sum(len_train)/len(len_train), sum(len_test)/len(len_test)"
   ]
  },
  {
   "cell_type": "code",
   "execution_count": 22,
   "metadata": {},
   "outputs": [
    {
     "name": "stdout",
     "output_type": "stream",
     "text": [
      "7 44088\n",
      "9 32478\n",
      "8 26222\n",
      "11 25187\n",
      "6 25172\n",
      "10 22701\n",
      "5 21780\n",
      "4 19474\n",
      "12 17146\n",
      "13 16644\n"
     ]
    }
   ],
   "source": [
    "for k ,v in list(llstrain.items())[:10]:\n",
    "    \n",
    "    \n",
    "    print(k,v)"
   ]
  },
  {
   "cell_type": "code",
   "execution_count": 23,
   "metadata": {},
   "outputs": [
    {
     "name": "stdout",
     "output_type": "stream",
     "text": [
      "7 4707\n",
      "9 4459\n",
      "11 3773\n",
      "8 3359\n",
      "10 3344\n",
      "6 3016\n",
      "12 2518\n",
      "13 2495\n",
      "5 2329\n",
      "4 2290\n"
     ]
    }
   ],
   "source": [
    "for k ,v in list(llstest.items())[:10]:\n",
    "    print(k,v)"
   ]
  }
 ],
 "metadata": {
  "kernelspec": {
   "display_name": "xai",
   "language": "python",
   "name": "python3"
  },
  "language_info": {
   "codemirror_mode": {
    "name": "ipython",
    "version": 3
   },
   "file_extension": ".py",
   "mimetype": "text/x-python",
   "name": "python",
   "nbconvert_exporter": "python",
   "pygments_lexer": "ipython3",
   "version": "3.12.3"
  }
 },
 "nbformat": 4,
 "nbformat_minor": 2
}
