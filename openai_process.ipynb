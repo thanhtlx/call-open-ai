{
 "cells": [
  {
   "cell_type": "code",
   "execution_count": null,
   "metadata": {},
   "outputs": [],
   "source": [
    "from openai import OpenAI\n",
    "import os \n",
    "os.environ['OPENAI_API_KEY'] = ''\n",
    "client = OpenAI(\n",
    "  organization='org-T4ew5eiTxSpJrQVcBLLZQhTF',\n",
    "  project='proj_GJ4tiZkw4JfcR6nEhgZlDI39',\n",
    ")\n",
    "\n"
   ]
  },
  {
   "cell_type": "code",
   "execution_count": 22,
   "metadata": {},
   "outputs": [
    {
     "name": "stdout",
     "output_type": "stream",
     "text": [
      "{'model': 'gpt-3.5-turbo', 'messages': [{'role': 'user', 'content': 'I want you to act as a commit message generator.\\nDo not write any explanations or other words, just reply with the commit message.\\nPlease generate the message of this changes:\\nmmm usr.sbin/smtpd/table.c <s> ppp usr.sbin/smtpd/table.c <s> -/* $OpenBSD: table.c,v 1.48 2019/01/10 07:40:52 eric Exp $ */ \\n +/* $OpenBSD: table.c,v 1.49 2020/12/23 08:12:14 martijn Exp $ */ \\n  \\n /* \\n * Copyright (c) 2013 Eric Faurot <eric@openbsd.org> \\n table_regex_match(const char *string, const char *pattern) \\n { \\n regex_t preg; \\n int cflags = REG_EXTENDED|REG_NOSUB; \\n + int ret; \\n  \\n if (strncmp(pattern, \"(?i)\", 4) == 0) { \\n cflags |= REG_ICASE; \\n table_regex_match(const char *string, const char *pattern) \\n if (regcomp(&preg, pattern, cflags) != 0) \\n return (0); \\n  \\n - if (regexec(&preg, string, 0, NULL, 0) != 0) \\n + ret = regexec(&preg, string, 0, NULL, 0); \\n + \\n + regfree(&preg); \\n + \\n + if (ret != 0) \\n return (0); \\n  \\n return (1);'}], 'temperature': 0, 'max_tokens': 256}\n"
     ]
    },
    {
     "data": {
      "text/plain": [
       "ChatCompletion(id='chatcmpl-9MUIMqLTeafnsqCgrrvzIuunAWdaX', choices=[Choice(finish_reason='stop', index=0, logprobs=None, message=ChatCompletionMessage(content='table: refactor regex matching logic', role='assistant', function_call=None, tool_calls=None))], created=1715146698, model='gpt-3.5-turbo-0125', object='chat.completion', system_fingerprint=None, usage=CompletionUsage(completion_tokens=6, prompt_tokens=325, total_tokens=331))"
      ]
     },
     "execution_count": 22,
     "metadata": {},
     "output_type": "execute_result"
    }
   ],
   "source": [
    "import json\n",
    "file = 'patch_api\\\\cross\\\\cross_project_patch_batch_0.jsonl'\n",
    "with open(file) as ff:\n",
    "    for line in ff.readlines():\n",
    "        obj = json.loads(line.strip())\n",
    "        body = obj['body']\n",
    "        print(body)\n",
    "        chat_completion = client.chat.completions.create(model=body['model'],messages=body['messages'],max_tokens=body['max_tokens'],temperature=body['temperature'])\n",
    "        break\n",
    "chat_completion"
   ]
  },
  {
   "cell_type": "code",
   "execution_count": 25,
   "metadata": {},
   "outputs": [
    {
     "data": {
      "text/plain": [
       "'table: refactor regex matching logic'"
      ]
     },
     "execution_count": 25,
     "metadata": {},
     "output_type": "execute_result"
    }
   ],
   "source": [
    "chat_completion.choices[0].message.content"
   ]
  },
  {
   "cell_type": "code",
   "execution_count": 16,
   "metadata": {},
   "outputs": [
    {
     "data": {
      "text/plain": [
       "SyncPage[FileObject](data=[FileObject(id='file-vCZFbZuWP2BoEM8mRPeRz1HL', bytes=586819, created_at=1715144345, filename='cross_project_patch_batch_2.jsonl', object='file', purpose='batch', status='processed', status_details=None), FileObject(id='file-pE6ExqmWCkBNSOHi7L6ORGfP', bytes=447704, created_at=1715144282, filename='cross_project_patch_batch_10.jsonl', object='file', purpose='batch', status='processed', status_details=None), FileObject(id='file-yx1Bp6jn0bHlXZpurasOqcsb', bytes=590078, created_at=1715144220, filename='cross_project_patch_batch_1.jsonl', object='file', purpose='batch', status='processed', status_details=None), FileObject(id='file-DcDfmTr3lOShgsmzymW8ggZk', bytes=590674, created_at=1715144150, filename='cross_project_patch_batch_0.jsonl', object='file', purpose='batch', status='processed', status_details=None)], object='list', has_more=False)"
      ]
     },
     "execution_count": 16,
     "metadata": {},
     "output_type": "execute_result"
    }
   ],
   "source": [
    "response = client.files.list()\n",
    "response"
   ]
  },
  {
   "cell_type": "code",
   "execution_count": 17,
   "metadata": {},
   "outputs": [
    {
     "name": "stdout",
     "output_type": "stream",
     "text": [
      "file-vCZFbZuWP2BoEM8mRPeRz1HL\n",
      "file-pE6ExqmWCkBNSOHi7L6ORGfP\n",
      "file-yx1Bp6jn0bHlXZpurasOqcsb\n",
      "file-DcDfmTr3lOShgsmzymW8ggZk\n"
     ]
    }
   ],
   "source": [
    "for f in response:\n",
    "    print(f.id)\n",
    "    client.files.delete(f.id)"
   ]
  },
  {
   "cell_type": "code",
   "execution_count": 3,
   "metadata": {},
   "outputs": [
    {
     "name": "stdout",
     "output_type": "stream",
     "text": [
      "5952 5952 5952\n"
     ]
    }
   ],
   "source": [
    "import glob \n",
    "import json\n",
    "map_key_gold = dict()\n",
    "map_key_pred = dict()\n",
    "c = 0\n",
    "for file in glob.glob('patch_api/cross/output_*'):\n",
    "    with open(file) as f:\n",
    "        for l in f.readlines():\n",
    "            obj = json.loads(l.strip())\n",
    "            msg = obj['response']['body']['choices'][0]['message']['content']\n",
    "            msg = ' '.join(msg.split())\n",
    "            c += 1\n",
    "            map_key_pred[obj['custom_id']] = str(c) + \"\\t\"+ msg\n",
    "            map_key_pred[obj['custom_id']] = msg\n",
    "        \n",
    "\n",
    "with open('patch_api/cross/test_cross_project_patch.jsonl') as f:\n",
    "    for l in f.readlines():\n",
    "        data  = json.loads(l.strip())\n",
    "        map_key_gold[data['index']] = data['label']\n",
    "\n",
    "print(c,len(map_key_gold),len(map_key_pred))\n",
    "\n",
    "assert len(map_key_pred) == len(map_key_pred)"
   ]
  },
  {
   "cell_type": "code",
   "execution_count": 4,
   "metadata": {},
   "outputs": [],
   "source": [
    "golds,preds = list(),list()\n",
    "for k, v in map_key_pred.items():\n",
    "    preds.append(v.strip())\n",
    "    golds.append(map_key_gold[k].strip())\n",
    "with open('patch_api/cross/gold','w+') as f:\n",
    "    f.write('\\n'.join(golds))\n",
    "with open('patch_api/cross/prd','w+') as f:\n",
    "    f.write('\\n'.join(preds))"
   ]
  }
 ],
 "metadata": {
  "kernelspec": {
   "display_name": "Python 3",
   "language": "python",
   "name": "python3"
  },
  "language_info": {
   "codemirror_mode": {
    "name": "ipython",
    "version": 3
   },
   "file_extension": ".py",
   "mimetype": "text/x-python",
   "name": "python",
   "nbconvert_exporter": "python",
   "pygments_lexer": "ipython3",
   "version": "3.12.3"
  }
 },
 "nbformat": 4,
 "nbformat_minor": 2
}
